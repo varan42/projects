{
 "cells": [
  {
   "cell_type": "markdown",
   "metadata": {
    "_uuid": "9d8cc170f28e42c2739e739c7407115ba73abf47"
   },
   "source": [
    "# Homework Zero - Solutions"
   ]
  },
  {
   "cell_type": "code",
   "execution_count": null,
   "metadata": {
    "_cell_guid": "b1076dfc-b9ad-4769-8c92-a6c4dae69d19",
    "_uuid": "8f2839f25d086af736a60e9eeb907d3b93b6e0e5"
   },
   "outputs": [],
   "source": [
    "! cp ../input/snappy/snap.py snap.py\n",
    "! cp ../input/snappy/_snap.so _snap.so\n",
    "! cp ../input/snappy/setup.py setup.py\n",
    "\n",
    "! python setup.py install > /dev/null\n",
    "! apt-get -y install gnuplot -qq > /dev/null\n",
    "\n",
    "import snap\n",
    "from IPython.display import Image"
   ]
  },
  {
   "cell_type": "markdown",
   "metadata": {
    "_cell_guid": "79c7e3d0-c299-4dcb-8224-4455121ee9b0",
    "_uuid": "d629ff2d2480ee46fbb7e2d37f6b5fab8052498a",
    "collapsed": true
   },
   "source": [
    "# 1. Analyzing the Wikipedia voters network"
   ]
  },
  {
   "cell_type": "code",
   "execution_count": null,
   "metadata": {
    "_uuid": "5c996a3d34a0c28b9558ba01d327b4594985f51d"
   },
   "outputs": [],
   "source": [
    "G1 = snap.LoadEdgeList(snap.PNGraph, '../input/cs224whw2018/wiki-vote.txt/wiki-Vote.txt', 0, 1)"
   ]
  },
  {
   "cell_type": "markdown",
   "metadata": {
    "_uuid": "045585bbbca6bc518c2ab55cd1d9f80e81221daa"
   },
   "source": [
    "Compute and print out the following statistics for the wiki-Vote network:  \n",
    "  \n",
    "1. The number of nodes in the network. (Gsmall has 3 nodes.)\n",
    "2. The number of nodes with a self-edge (self-loop), i.e., the number of nodes a 2 V where\n",
    "(a; a) 2 E. (Gsmall has 1 self-edge.)\n",
    "3. The number of directed edges in the network, i.e., the number of ordered pairs (a; b) 2 E\n",
    "for which a 6= b. (Gsmall has 3 directed edges.)\n",
    "4. The number of undirected edges in the network, i.e., the number of unique unordered pairs\n",
    "(a; b), a 6= b, for which (a; b) 2 E or (b; a) 2 E (or both). If both (a; b) and (b; a) are edges,\n",
    "this counts a single undirected edge. (Gsmall has 2 undirected edges.)\n",
    "5. The number of reciprocated edges in the network, i.e., the number of unique unordered\n",
    "pairs of nodes (a; b), a 6= b, for which (a; b) 2 E and (b; a) 2 E. (Gsmall has 1 reciprocated\n",
    "edge.)\n",
    "6. The number of nodes of zero out-degree. (Gsmall has 1 node with zero out-degree.)\n",
    "7. The number of nodes of zero in-degree. (Gsmall has 0 nodes with zero in-degree.)\n",
    "8. The number of nodes with more than 10 outgoing edges (out-degree > 10).\n",
    "9. The number of nodes with fewer than 10 incoming edges (in-degree < 10)."
   ]
  },
  {
   "cell_type": "code",
   "execution_count": null,
   "metadata": {
    "_uuid": "fe2a996934d509a2bd0c5a4759d9f6bed0c2b051"
   },
   "outputs": [],
   "source": [
    "snap.PrintInfo(G1, 'Wikipedia vote network', 'output.txt', False)\n",
    "for line in open('output.txt').readlines():\n",
    "    print (line.strip())"
   ]
  },
  {
   "cell_type": "code",
   "execution_count": null,
   "metadata": {
    "_uuid": "b751a9ba4a43211aa6bb7c807232d5c3f2780e62"
   },
   "outputs": [],
   "source": [
    "#1.8\n",
    "counter = 0\n",
    "for i in range(11):\n",
    "    counter += snap.CntOutDegNodes(G1, i)\n",
    "print ('Count of nodes with out-degree >10 is %d' % (G1.GetNodes() - counter))"
   ]
  },
  {
   "cell_type": "code",
   "execution_count": null,
   "metadata": {
    "_uuid": "f6f139878bb5551221f5364b1fbd15612988e6ca"
   },
   "outputs": [],
   "source": [
    "#1.9\n",
    "counter = 0\n",
    "for i in range(10):\n",
    "    counter += snap.CntInDegNodes(G1, i)\n",
    "print ('Count of nodes with in-degree <10 is %d' % counter)"
   ]
  },
  {
   "cell_type": "markdown",
   "metadata": {
    "_uuid": "b1243df3756452081bd984223bb31278b7dac256"
   },
   "source": [
    "# 2. Further Analyzing the Wikipedia voters network"
   ]
  },
  {
   "cell_type": "code",
   "execution_count": null,
   "metadata": {
    "_uuid": "b6d8ec7e4f1486a3e25b00d1f82d6c964f967593",
    "scrolled": false
   },
   "outputs": [],
   "source": [
    "#2.1, 2.2\n",
    "snap.PlotOutDegDistr(G1, \"G1\", \"Directed graph - out-degree Distribution\", False, True)\n",
    "Image(filename='outDeg.G1.png')"
   ]
  },
  {
   "cell_type": "markdown",
   "metadata": {
    "_uuid": "14b90a5aa26832d9df700dbb091fcf6d4f71f82e"
   },
   "source": [
    "Alternatively, we can plot CCDF in order to get rid of the jitter and enjoy a smother plot."
   ]
  },
  {
   "cell_type": "code",
   "execution_count": null,
   "metadata": {
    "_uuid": "b22477ed4b6bd6b1600a08ae417e1470300db353"
   },
   "outputs": [],
   "source": [
    "snap.PlotOutDegDistr(G1, \"G1\", \"Directed graph - out-degree Cumulative Distribution\",True, True)\n",
    "Image(filename='outDegC.G1.png') "
   ]
  },
  {
   "cell_type": "markdown",
   "metadata": {
    "_uuid": "470165414f10ff3a0032e6cd384dc1c40aeb3f03"
   },
   "source": [
    "# 3. Finding Experts on the Java Programming Language on StackOverflow  \n",
    "1. The number of weakly connected components in the network. This value can be calculated\n",
    "in Snap.py via function GetWccs.\n",
    "2. The number of edges and the number of nodes in the largest weakly connected component.\n",
    "The largest weakly connected component is calculated in Snap.py with function GetMxWcc.\n",
    "3. IDs of the top 3 most central nodes in the network by PagePank scores. PageRank scores\n",
    "are calculated in Snap.py with function GetPageRank.\n",
    "4. IDs of the top 3 hubs and top 3 authorities in the network by HITS scores. HITS scores\n",
    "are calculated in Snap.py with function GetHits."
   ]
  },
  {
   "cell_type": "code",
   "execution_count": null,
   "metadata": {
    "_uuid": "f6fd0b4aba213b113dd1fcf3eb6b3b8456657bb6"
   },
   "outputs": [],
   "source": [
    "G2 = snap.LoadEdgeList(snap.PNGraph, '../input/cs224whw2018/stackoverflow-java.txt/stackoverflow-Java.txt', 0, 1)"
   ]
  },
  {
   "cell_type": "code",
   "execution_count": null,
   "metadata": {
    "_uuid": "b1101f33acf0b1184cfa21b777b0b0180894577e"
   },
   "outputs": [],
   "source": [
    "#3.1\n",
    "Components = snap.TCnComV()\n",
    "snap.GetWccs(G2, Components)\n",
    "Components.Len()"
   ]
  },
  {
   "cell_type": "code",
   "execution_count": null,
   "metadata": {
    "_uuid": "8083c5c58d65f06fd03ad9c0c04ebb97b5ca6024"
   },
   "outputs": [],
   "source": [
    "#3.2\n",
    "MxWcc = snap.GetMxWcc(G2)\n",
    "print(MxWcc.GetEdges(), MxWcc.GetNodes())"
   ]
  },
  {
   "cell_type": "code",
   "execution_count": null,
   "metadata": {
    "_uuid": "2a240e57e25b4e8330d29101a4e4f0bb718fb14a"
   },
   "outputs": [],
   "source": [
    "#3.2 - alternative\n",
    "print(snap.GetMxWcc(G2).GetNodes(), snap.GetMxWcc(G2).GetEdges())"
   ]
  },
  {
   "cell_type": "code",
   "execution_count": null,
   "metadata": {
    "_uuid": "7f08177a8cf320d68277a80f46fa3cc1a70cf4cf"
   },
   "outputs": [],
   "source": [
    "#3.3\n",
    "PRankH = snap.TIntFlt64H()\n",
    "snap.GetPageRank(G2, PRankH)\n",
    "i = 0\n",
    "\n",
    "PRankH.SortByDat(False)\n",
    "\n",
    "for item in PRankH:\n",
    "    if i < 3:\n",
    "        print (item)#, PRankH[item])\n",
    "    else:\n",
    "        break\n",
    "    i += 1"
   ]
  },
  {
   "cell_type": "code",
   "execution_count": null,
   "metadata": {
    "_uuid": "fe9640b6b096da874dbdd1191b632347c81e4967",
    "scrolled": true
   },
   "outputs": [],
   "source": [
    "#3.4 Hubs\n",
    "NIdHubH = snap.TIntFlt64H()\n",
    "NIdAuthH = snap.TIntFlt64H()\n",
    "snap.GetHits(G2, NIdHubH, NIdAuthH)\n",
    "i = 0\n",
    "\n",
    "NIdHubH.SortByDat(False)\n",
    "\n",
    "for item in NIdHubH:\n",
    "    if i < 3:\n",
    "        print (item)#, NIdHubH[item])\n",
    "    else:\n",
    "        break\n",
    "    i += 1"
   ]
  },
  {
   "cell_type": "code",
   "execution_count": null,
   "metadata": {
    "_uuid": "0dee3c9dc2c38ca6f5fc35af024a360c3351e8ff"
   },
   "outputs": [],
   "source": [
    "#3.4 Authorities\n",
    "NIdAuthH.SortByDat(False)\n",
    "\n",
    "for item in NIdAuthH:\n",
    "    if i < 6:\n",
    "        print (item)#, NIdAuthH[item])\n",
    "    else:\n",
    "        break\n",
    "    i += 1"
   ]
  }
 ],
 "metadata": {
  "kernelspec": {
   "display_name": "Python 3",
   "language": "python",
   "name": "python3"
  },
  "language_info": {
   "codemirror_mode": {
    "name": "ipython",
    "version": 3
   },
   "file_extension": ".py",
   "mimetype": "text/x-python",
   "name": "python",
   "nbconvert_exporter": "python",
   "pygments_lexer": "ipython3",
   "version": "3.6.5"
  },
  "toc": {
   "base_numbering": 1,
   "nav_menu": {},
   "number_sections": true,
   "sideBar": true,
   "skip_h1_title": false,
   "title_cell": "Table of Contents",
   "title_sidebar": "Contents",
   "toc_cell": false,
   "toc_position": {},
   "toc_section_display": true,
   "toc_window_display": false
  }
 },
 "nbformat": 4,
 "nbformat_minor": 1
}
